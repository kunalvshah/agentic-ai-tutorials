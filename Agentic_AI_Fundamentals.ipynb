{
  "nbformat": 4,
  "nbformat_minor": 0,
  "metadata": {
    "colab": {
      "provenance": [],
      "authorship_tag": "ABX9TyOvB3wJU3pjFJHoxtN4SpoT",
      "include_colab_link": true
    },
    "kernelspec": {
      "name": "python3",
      "display_name": "Python 3"
    },
    "language_info": {
      "name": "python"
    }
  },
  "cells": [
    {
      "cell_type": "markdown",
      "metadata": {
        "id": "view-in-github",
        "colab_type": "text"
      },
      "source": [
        "<a href=\"https://colab.research.google.com/github/kunalvshah/agentic-ai-tutorials/blob/main/Agentic_AI_Fundamentals.ipynb\" target=\"_parent\"><img src=\"https://colab.research.google.com/assets/colab-badge.svg\" alt=\"Open In Colab\"/></a>"
      ]
    },
    {
      "cell_type": "code",
      "execution_count": null,
      "metadata": {
        "id": "9lcjQgUg0cBv"
      },
      "outputs": [],
      "source": [
        "!pip install langchain openai pandas numpy yfinance faiss-cpu chromadb pypdf pdfplumber python-dotenv langchain-community openai\n",
        "\n"
      ]
    },
    {
      "cell_type": "code",
      "source": [
        "from getpass import getpass\n",
        "from google.colab import files\n",
        "import pdfplumber\n",
        "import yfinance as yf\n",
        "from langchain.llms import OpenAI\n",
        "import os"
      ],
      "metadata": {
        "id": "CiQCEgE400n5"
      },
      "execution_count": null,
      "outputs": []
    },
    {
      "cell_type": "code",
      "source": [
        "from getpass import getpass\n",
        "os.environ[\"OPENAI_API_KEY\"] = getpass(\"Enter your OpenAI API key: \")"
      ],
      "metadata": {
        "id": "BFfRehqe1jAt"
      },
      "execution_count": null,
      "outputs": []
    },
    {
      "cell_type": "code",
      "source": [
        "llm = OpenAI(temperature=0.5)\n",
        "\n",
        "print(llm(\"Explain what is intrinsic value in stocks\"))"
      ],
      "metadata": {
        "id": "dEwWu2Ny4oFW"
      },
      "execution_count": null,
      "outputs": []
    },
    {
      "cell_type": "code",
      "source": [
        "uploaded = files.upload()\n",
        "text = ''\n",
        "for filename in uploaded.keys():\n",
        "    with pdfplumber.open(filename) as pdf:\n",
        "        text = ''\n",
        "        for page in pdf.pages:\n",
        "            page_text = page.extract_text()\n",
        "            if page_text:\n",
        "                text += page_text + '\\n'\n",
        "\n",
        "print(text[:2000])  # Show preview"
      ],
      "metadata": {
        "id": "t3A0Ko5iAgya"
      },
      "execution_count": null,
      "outputs": []
    },
    {
      "cell_type": "code",
      "source": [
        "ticker = yf.Ticker(\"BRITANNIA.NS\")\n",
        "hist = ticker.history(period=\"5d\")\n",
        "print(hist)"
      ],
      "metadata": {
        "id": "LJXc4Oh0BKG5"
      },
      "execution_count": null,
      "outputs": []
    },
    {
      "cell_type": "code",
      "source": [
        "from langchain_community.document_loaders import PyPDFLoader\n",
        "from langchain.text_splitter import RecursiveCharacterTextSplitter\n",
        "\n",
        "\n",
        "loader = PyPDFLoader(\"britannia.pdf\")\n",
        "docs = loader.load()\n",
        "\n",
        "splitter = RecursiveCharacterTextSplitter(chunk_size=1000, chunk_overlap=200)\n",
        "chunks = splitter.split_documents(docs)\n",
        "print(f\"Split into {len(chunks)} chunks\")"
      ],
      "metadata": {
        "id": "hf7Bx9E8G5tx"
      },
      "execution_count": null,
      "outputs": []
    },
    {
      "cell_type": "code",
      "source": [
        "from langchain.prompts import PromptTemplate\n",
        "\n",
        "template = \"\"\"\n",
        "You are a financial analyst. Use the following document to extract:\n",
        "\n",
        "1. Total Revenue\n",
        "2. Net Profit\n",
        "3. EPS (Earnings Per Share)\n",
        "4. Key management commentary\n",
        "5. Any mention of business risks\n",
        "\n",
        "If data is missing, respond 'Not Found'.\n",
        "\n",
        "Document:\n",
        "{context}\n",
        "\n",
        "Answer:\n",
        "\"\"\"\n",
        "\n",
        "prompt = PromptTemplate(template=template, input_variables=[\"context\"])"
      ],
      "metadata": {
        "id": "xXqpJuDoHJo8"
      },
      "execution_count": null,
      "outputs": []
    },
    {
      "cell_type": "code",
      "source": [
        "from langchain.chains import LLMChain\n",
        "from langchain.chains.summarize import load_summarize_chain\n",
        "from langchain.chains.qa_with_sources import load_qa_with_sources_chain\n",
        "from langchain_community.llms import OpenAI\n",
        "\n",
        "llm = OpenAI(temperature=0.2)\n",
        "\n",
        "qa_chain = LLMChain(llm=llm, prompt=prompt)\n",
        "\n",
        "chain = load_summarize_chain(llm, chain_type=\"map_reduce\", verbose=True)\n",
        "result = chain.run(chunks)\n",
        "\n",
        "print(result)"
      ],
      "metadata": {
        "id": "eeFSX-7THM_b"
      },
      "execution_count": null,
      "outputs": []
    },
    {
      "cell_type": "code",
      "source": [
        "# Let's assume it extracted EPS = 60, Sector PE = 25\n",
        "EPS = 60\n",
        "PE = 25\n",
        "fair_price = EPS * PE\n",
        "print(f\"Estimated Fair Value: ₹{fair_price}\")"
      ],
      "metadata": {
        "id": "AWfTrQ-7HkAB"
      },
      "execution_count": null,
      "outputs": []
    },
    {
      "cell_type": "code",
      "source": [
        "# Simple Reflex Agent in Python\n",
        "def simple_agent():\n",
        "    print(\"Welcome! Type 'hello', 'bye', or 'status'. Type 'exit' to stop.\")\n",
        "    while True:\n",
        "        perception = input(\"You: \").strip().lower()\n",
        "        if perception == \"exit\":\n",
        "            print(\"Agent: Goodbye!\")\n",
        "            break\n",
        "        elif perception == \"hello\":\n",
        "            print(\"Agent: Hello there!\")\n",
        "        elif perception == \"bye\":\n",
        "            print(\"Agent: See you soon!\")\n",
        "        elif perception == \"status\":\n",
        "            print(\"Agent: I am a basic Python agent, running fine!\")\n",
        "        else:\n",
        "            print(\"Agent: Sorry, I don't understand that command.\")\n",
        "\n",
        "simple_agent()\n"
      ],
      "metadata": {
        "id": "j9qYOc01j2DO"
      },
      "execution_count": null,
      "outputs": []
    },
    {
      "cell_type": "code",
      "source": [
        "class SimpleAgent:\n",
        "    def __init__(self):\n",
        "        self.memory = {}\n",
        "\n",
        "    def perceive_and_act(self, perception):\n",
        "        perception = perception.strip().lower()\n",
        "        if perception == \"hello\":\n",
        "            if not self.memory.get(\"greeted\"):\n",
        "                self.memory[\"greeted\"] = True\n",
        "                return \"Agent: Hello! Nice to meet you.\"\n",
        "            else:\n",
        "                return \"Agent: We've already greeted :)\"\n",
        "        elif perception == \"bye\":\n",
        "            return \"Agent: Goodbye!\"\n",
        "        elif perception == \"status\":\n",
        "            times = self.memory.get(\"asked_status\", 0) + 1\n",
        "            self.memory[\"asked_status\"] = times\n",
        "            return f\"Agent: You have asked for my status {times} time(s).\"\n",
        "        elif perception == \"exit\":\n",
        "            return \"exit\"\n",
        "        else:\n",
        "            todo = self.memory.get(\"todo\", [])\n",
        "            todo.append(perception)\n",
        "            self.memory[\"todo\"] = todo\n",
        "            return \"To DO: \" + \", \".join(todo)\n",
        "            # return \"Agent: I don't understand that command.\"\n",
        "\n",
        "def run_agent():\n",
        "    print(\"Type commands ('hello', 'bye', 'status', 'exit'):\")\n",
        "    agent = SimpleAgent()\n",
        "    while True:\n",
        "        user_input = input(\"You: \")\n",
        "        response = agent.perceive_and_act(user_input)\n",
        "        if response == \"exit\":\n",
        "            print(\"Agent: Session ended.\")\n",
        "            break\n",
        "        else:\n",
        "            print(response)\n",
        "\n",
        "run_agent()\n"
      ],
      "metadata": {
        "id": "ZP-3BGo7xCRu"
      },
      "execution_count": null,
      "outputs": []
    },
    {
      "cell_type": "code",
      "source": [
        "from langchain.agents import initialize_agent, load_tools\n",
        "from langchain.llms import OpenAI\n",
        "import os\n",
        "\n",
        "from getpass import getpass\n",
        "os.environ[\"OPENAI_API_KEY\"] = getpass(\"Enter your OpenAI API key: \")\n",
        "\n",
        "llm = OpenAI(temperature=0)  # adjust for more/less creativity\n",
        "\n",
        "# Define tools (optionally add more, e.g., search, calculator)\n",
        "tools = load_tools([\"calculator\"])\n",
        "\n",
        "# Initialize agent\n",
        "agent = initialize_agent(tools, llm, agent=\"zero-shot-react-description\", verbose=True)\n",
        "\n",
        "# Interact with agent (sample query)\n",
        "agent.run(\"What is 2+2?\")\n"
      ],
      "metadata": {
        "id": "8rdIfLGxS8-8"
      },
      "execution_count": null,
      "outputs": []
    }
  ]
}